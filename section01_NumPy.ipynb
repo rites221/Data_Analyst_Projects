{
 "cells": [
  {
   "cell_type": "markdown",
   "id": "d0d4a2ef",
   "metadata": {},
   "source": [
    "### Package Imports"
   ]
  },
  {
   "cell_type": "code",
   "execution_count": 20,
   "id": "dbd96293",
   "metadata": {},
   "outputs": [],
   "source": [
    "import numpy as np"
   ]
  },
  {
   "cell_type": "markdown",
   "id": "3a5e9bd3",
   "metadata": {},
   "source": [
    "# Assignment 1: Array Basics\n",
    "\n",
    "Hi there,\n",
    "\n",
    "Can you import Numpy and convert the following list comprehension (I just learned about comprehensions in an awesome course by Maven) into an array?\n",
    "\n",
    "Once you've done that report the following about the array:\n",
    "* The number of dimensions \n",
    "* The shape\n",
    "* The number of elements in the array\n",
    "* The type of data contained inside"
   ]
  },
  {
   "cell_type": "code",
   "execution_count": 21,
   "id": "6d3f8d99",
   "metadata": {},
   "outputs": [
    {
     "data": {
      "text/plain": [
       "array([ 10,  20,  30,  40,  50,  60,  70,  80,  90, 100])"
      ]
     },
     "execution_count": 21,
     "metadata": {},
     "output_type": "execute_result"
    }
   ],
   "source": [
    "my_list = [x * 10 for x in range(1, 11)] ##already given for the reference\n",
    "\n",
    "my_list_array = np.array(my_list)\n",
    "\n",
    "my_list_array"
   ]
  },
  {
   "cell_type": "code",
   "execution_count": 22,
   "id": "ac0d2c7b",
   "metadata": {},
   "outputs": [
    {
     "name": "stdout",
     "output_type": "stream",
     "text": [
      "ndim: 1\n",
      "shape: (10,)\n",
      "size : 10\n",
      "dtype : int32\n"
     ]
    }
   ],
   "source": [
    "print(f\"ndim: {my_list_array.ndim}\")\n",
    "print(f\"shape: {my_list_array.shape}\")\n",
    "print(f\"size : {my_list_array.size}\")\n",
    "print(f\"dtype : {my_list_array.dtype}\")"
   ]
  },
  {
   "cell_type": "markdown",
   "id": "8ff92bb7",
   "metadata": {},
   "source": [
    "# Assignment 2: Array Creation\n",
    "\n",
    "Thanks for your help with the first piece - I'm starting to understand some of the key differences between base Python data types and NumPy arrays. \n",
    "\n",
    "Does NumPy have anything like the range() function from base Python?\n",
    "\n",
    "If so: \n",
    "* create the same array from assignment 1 using a NumPy function. \n",
    "* Make it 5 rows and 2 columns. \n",
    "* It's ok if the datatype is float or int."
   ]
  },
  {
   "cell_type": "code",
   "execution_count": 23,
   "id": "81839e0f",
   "metadata": {
    "scrolled": true
   },
   "outputs": [
    {
     "data": {
      "text/plain": [
       "array([[ 10.,  20.],\n",
       "       [ 30.,  40.],\n",
       "       [ 50.,  60.],\n",
       "       [ 70.,  80.],\n",
       "       [ 90., 100.]])"
      ]
     },
     "execution_count": 23,
     "metadata": {},
     "output_type": "execute_result"
    }
   ],
   "source": [
    "np.linspace(10,100,10).reshape(5,2)"
   ]
  },
  {
   "cell_type": "markdown",
   "id": "e0849aa4",
   "metadata": {},
   "source": [
    "Looking good so far! One of our data scientists asked about random number generation in NumPy.\n",
    "\n",
    "Can you create a 3x3 array of random numbers between 0 and 1? Use a random state of 2022.\n",
    "\n",
    "Store the random array in a variable called `random_array`."
   ]
  },
  {
   "cell_type": "markdown",
   "id": "6927e8b0",
   "metadata": {},
   "source": [
    "# Assignment 3: Accessing Array Data\n",
    "\n",
    "\n",
    "Slice and index the `random_array` we created in the previous exercise. Perform the following:\n",
    "\n",
    "* Grab the first two 'rows' of the array\n",
    "* Grab the entire first column\n",
    "* Finally, grab the second selement of the third row.\n",
    "\n",
    "Thanks!\n"
   ]
  },
  {
   "cell_type": "code",
   "execution_count": 24,
   "id": "62a4e208",
   "metadata": {},
   "outputs": [
    {
     "ename": "NameError",
     "evalue": "name 'random_array' is not defined",
     "output_type": "error",
     "traceback": [
      "\u001b[1;31m---------------------------------------------------------------------------\u001b[0m",
      "\u001b[1;31mNameError\u001b[0m                                 Traceback (most recent call last)",
      "Cell \u001b[1;32mIn[24], line 1\u001b[0m\n\u001b[1;32m----> 1\u001b[0m \u001b[43mrandom_array\u001b[49m\n",
      "\u001b[1;31mNameError\u001b[0m: name 'random_array' is not defined"
     ]
    }
   ],
   "source": [
    "random_array"
   ]
  },
  {
   "cell_type": "code",
   "execution_count": null,
   "id": "8f9e9acf",
   "metadata": {
    "scrolled": true
   },
   "outputs": [],
   "source": [
    "random_array[:2,]"
   ]
  },
  {
   "cell_type": "code",
   "execution_count": null,
   "id": "87fa83f7",
   "metadata": {},
   "outputs": [],
   "source": [
    "random_array[:,:1]"
   ]
  },
  {
   "cell_type": "code",
   "execution_count": null,
   "id": "fe985696",
   "metadata": {},
   "outputs": [],
   "source": [
    "random_array[2,1]"
   ]
  },
  {
   "cell_type": "markdown",
   "id": "6e9ae36a",
   "metadata": {},
   "source": [
    "# Assignment 4: Arithmetic Operations"
   ]
  },
  {
   "cell_type": "markdown",
   "id": "b7283da4",
   "metadata": {},
   "source": [
    "The creativity of our marketing team knows no bounds!\n",
    "\n",
    "They've asked us to come up with a simple algorithm to provide a random discount to our list of prices below. \n",
    "\n",
    "Before we do that, \n",
    "\n",
    "* Add a 5 dollar shipping fee to each price. Call this array `total`.\n",
    "\n",
    "Once we have that, we want to use the random_array created in assignment 2 and apply them to the 6 prices.\n",
    "\n",
    "* Grab the first 6 numbers from `random_array`, reshape it to one dimension. Call this `discount_pct`.\n",
    "* Subtract `discount_pct` FROM 1, store this in `pct_owed`.\n",
    "* Multiply `pct_owed` by `total` to get the final amount owed."
   ]
  },
  {
   "cell_type": "code",
   "execution_count": null,
   "id": "f44773da",
   "metadata": {},
   "outputs": [],
   "source": [
    "prices = np.array([5.99, 6.99, 22.49, 99.99, 4.99, 49.99])\n",
    "\n",
    "total = prices + 5\n",
    "\n",
    "total"
   ]
  },
  {
   "cell_type": "code",
   "execution_count": null,
   "id": "9171609a",
   "metadata": {},
   "outputs": [],
   "source": [
    "discount_pct = random_array[:2, :].reshape(6)\n",
    "\n",
    "pct_owed = 1 - discount_pct\n",
    "\n",
    "final_owed = total * pct_owed\n",
    "\n",
    "final_owed.round(2)"
   ]
  },
  {
   "cell_type": "code",
   "execution_count": null,
   "id": "a06dbc29",
   "metadata": {},
   "outputs": [],
   "source": [
    "((1- (random_array[:2, :].reshape(6)))*total).round(2)"
   ]
  },
  {
   "cell_type": "code",
   "execution_count": null,
   "id": "da03368e",
   "metadata": {},
   "outputs": [],
   "source": [
    "print(discount_pct)\n",
    "print(pct_owed)\n",
    "print(final_owed)"
   ]
  },
  {
   "cell_type": "markdown",
   "id": "e89b2b01",
   "metadata": {},
   "source": [
    "#  Assignment 5: Filtering Arrays\n",
    "\n",
    "Filter the product array to only include those with prices greater than 25.\n",
    "\n",
    "Modify your logic to include cola, despite it not having a price greater than 25. \n",
    "Store the elements returned in an array called `fancy_feast_special`.\n",
    "\n",
    "Next, create a shipping cost array where the cost is 0 if price is greater than 20, and 5 if not. "
   ]
  },
  {
   "cell_type": "code",
   "execution_count": null,
   "id": "c144c432",
   "metadata": {},
   "outputs": [],
   "source": [
    "products = np.array(\n",
    "    [\"salad\", \"bread\", \"mustard\", \"rare tomato\", \"cola\", \"gourmet ice cream\"]\n",
    ")\n",
    "\n",
    "products #already given as a reference"
   ]
  },
  {
   "cell_type": "code",
   "execution_count": null,
   "id": "ba1b077b",
   "metadata": {},
   "outputs": [],
   "source": [
    "products[prices > 25]"
   ]
  },
  {
   "cell_type": "code",
   "execution_count": null,
   "id": "4002705c",
   "metadata": {},
   "outputs": [],
   "source": [
    "mask = (prices > 25) | (products == 'cola')\n",
    "\n",
    "fancy_feast_special = products[mask]\n",
    "\n",
    "fancy_feast_special"
   ]
  },
  {
   "cell_type": "code",
   "execution_count": null,
   "id": "4a8368d4",
   "metadata": {},
   "outputs": [],
   "source": [
    "Shipping_cost = np.where(prices > 20, 0, 5)\n",
    "\n",
    "Shipping_cost"
   ]
  },
  {
   "cell_type": "markdown",
   "id": "44ce04ed",
   "metadata": {},
   "source": [
    "# Assignment 6: Aggregating and Sorting Arrays\n",
    "\n",
    "First, grab the top 3 highest priced items in our list. \n",
    "\n",
    "Then, calculated the mean, min, max, and median of the top three prices.\n",
    "\n",
    "Finally, calculate the number of unique price tiers in our `price_tiers` array."
   ]
  },
  {
   "cell_type": "code",
   "execution_count": null,
   "id": "f97f4598",
   "metadata": {},
   "outputs": [],
   "source": [
    "prices = np.array([5.99, 6.99, 22.49, 99.99, 4.99, 49.99]) #already given for the reference\n",
    "\n",
    "prices.sort()"
   ]
  },
  {
   "cell_type": "code",
   "execution_count": null,
   "id": "eff32d47",
   "metadata": {},
   "outputs": [],
   "source": [
    "prices"
   ]
  },
  {
   "cell_type": "code",
   "execution_count": null,
   "id": "7b4f914e",
   "metadata": {},
   "outputs": [],
   "source": [
    "top_3 = prices[-3:]"
   ]
  },
  {
   "cell_type": "code",
   "execution_count": null,
   "id": "c462eeef",
   "metadata": {},
   "outputs": [],
   "source": [
    "print(f\"Mean: {top_3.mean()}\")\n",
    "print(f\"Min: {top_3.min()}\")\n",
    "print(f\"Max: {top_3.max()}\")\n",
    "print(f\"Median: {np.median(top_3)}\")"
   ]
  },
  {
   "cell_type": "code",
   "execution_count": null,
   "id": "b9087568",
   "metadata": {},
   "outputs": [],
   "source": [
    "price_tiers = np.array([\"budget\", \"budget\", \"mid-tier\", \"luxury\", \"mid-tier\", \"luxury\"]) #already given for the reference"
   ]
  },
  {
   "cell_type": "code",
   "execution_count": null,
   "id": "6b6e2292",
   "metadata": {},
   "outputs": [],
   "source": [
    "np.unique(price_tiers)"
   ]
  },
  {
   "cell_type": "markdown",
   "id": "31b66238",
   "metadata": {},
   "source": [
    "# Assignment 7: Bringing it All Together\n",
    "\n",
    "Ok, final NumPy task - let's read in some data with the help of Pandas.\n",
    "\n",
    "Our data scientist provided the code to read in a csv as a Pandas dataframe, and has converted the two columns of interest to arrays.\n",
    "\n",
    "* Filter `sales_array` down to only sales where the product family was produce. \n",
    "\n",
    "* Then, randomly sample roughly half (random number < .5) of the produce sales and report the mean and median sales. Use a random seed of 2022.\n",
    "\n",
    "* Finally, create a new array that has the values 'above_both', 'above_median', and 'below_both' based on whether the sales were above the median and mean of the sample, just above the median of the sample, or below both the median and mean of the sample. "
   ]
  },
  {
   "cell_type": "code",
   "execution_count": 26,
   "id": "5b567c99",
   "metadata": {},
   "outputs": [],
   "source": [
    "import pandas as pd\n",
    "import numpy as np\n",
    "\n",
    "retail_df = pd.read_csv(\n",
    "    \"../retail/retail_2016_2017.csv\", skiprows=range(1, 11000), nrows=1000\n",
    ")\n",
    "\n",
    "family_array = np.array(retail_df[\"family\"])\n",
    "sales_array = np.array(retail_df[\"sales\"])"
   ]
  },
  {
   "cell_type": "code",
   "execution_count": 28,
   "id": "a0424a65",
   "metadata": {},
   "outputs": [
    {
     "data": {
      "text/plain": [
       "array([1662.394,  447.064, 2423.944,  962.866, 1236.404,  298.441,\n",
       "       1077.44 , 3404.531,  962.96 ,  279.505, 1852.786, 1089.319,\n",
       "        726.516, 7860.031,  446.038, 1155.385,  120.202,  862.092,\n",
       "        473.952,  254.263, 1272.755, 2775.771, 2030.762, 1657.432,\n",
       "       2339.906,  722.333, 1567.843, 2458.456,  673.885, 8834.15 ])"
      ]
     },
     "execution_count": 28,
     "metadata": {},
     "output_type": "execute_result"
    }
   ],
   "source": [
    "#first filter the array\n",
    "\n",
    "produce_array = sales_array[family_array == 'PRODUCE']\n",
    "\n",
    "produce_array #use produce_array.size to know the size of the array"
   ]
  },
  {
   "cell_type": "code",
   "execution_count": 37,
   "id": "96eaf423",
   "metadata": {},
   "outputs": [
    {
     "data": {
      "text/plain": [
       "array([1662.394,  447.064,  962.866, 1077.44 , 3404.531,  962.96 ,\n",
       "       1089.319, 7860.031,  446.038, 1272.755, 2775.771, 2339.906,\n",
       "        722.333, 1567.843, 2458.456,  673.885, 8834.15 ])"
      ]
     },
     "execution_count": 37,
     "metadata": {},
     "output_type": "execute_result"
    }
   ],
   "source": [
    "#generate random array less than 30\n",
    "from numpy.random import default_rng\n",
    "\n",
    "rng = np.random.default_rng(2022)\n",
    "\n",
    "random_array = rng.random(30)\n",
    "\n",
    "produce_sample = produce_array[random_array < 0.5]\n",
    "\n",
    "produce_sample"
   ]
  },
  {
   "cell_type": "code",
   "execution_count": 35,
   "id": "432041d4",
   "metadata": {},
   "outputs": [
    {
     "data": {
      "text/plain": [
       "2268.102470588235"
      ]
     },
     "execution_count": 35,
     "metadata": {},
     "output_type": "execute_result"
    }
   ],
   "source": [
    "#mean of sales\n",
    "\n",
    "mean_of_sales = produce_sample.mean()\n",
    "\n",
    "mean_of_sales"
   ]
  },
  {
   "cell_type": "code",
   "execution_count": 36,
   "id": "e0186438",
   "metadata": {},
   "outputs": [
    {
     "data": {
      "text/plain": [
       "1272.755"
      ]
     },
     "execution_count": 36,
     "metadata": {},
     "output_type": "execute_result"
    }
   ],
   "source": [
    "#median of sales\n",
    "median_of_sales = np.median(produce_sample)\n",
    "\n",
    "median_of_sales"
   ]
  },
  {
   "cell_type": "code",
   "execution_count": 38,
   "id": "33c9a16a",
   "metadata": {},
   "outputs": [
    {
     "data": {
      "text/plain": [
       "array(['above_median', 'below_both', 'below_both', 'below_both',\n",
       "       'above_both', 'below_both', 'below_both', 'above_both',\n",
       "       'below_both', 'above_median', 'above_both', 'above_both',\n",
       "       'below_both', 'above_median', 'above_both', 'below_both',\n",
       "       'above_both'], dtype='<U12')"
      ]
     },
     "execution_count": 38,
     "metadata": {},
     "output_type": "execute_result"
    }
   ],
   "source": [
    "np.where(\n",
    "     produce_sample < median_of_sales,\n",
    "     \"below_both\",\n",
    "     np.where(produce_sample > mean_of_sales, \"above_both\", \"above_median\")    \n",
    ")"
   ]
  },
  {
   "cell_type": "code",
   "execution_count": null,
   "id": "a0b08ea2",
   "metadata": {},
   "outputs": [],
   "source": []
  }
 ],
 "metadata": {
  "kernelspec": {
   "display_name": "Python 3 (ipykernel)",
   "language": "python",
   "name": "python3"
  },
  "language_info": {
   "codemirror_mode": {
    "name": "ipython",
    "version": 3
   },
   "file_extension": ".py",
   "mimetype": "text/x-python",
   "name": "python",
   "nbconvert_exporter": "python",
   "pygments_lexer": "ipython3",
   "version": "3.10.9"
  }
 },
 "nbformat": 4,
 "nbformat_minor": 5
}
